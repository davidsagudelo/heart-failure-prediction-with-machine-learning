{
 "cells": [
  {
   "cell_type": "markdown",
   "id": "9f7c1a45",
   "metadata": {},
   "source": [
    "### Context \n",
    "\n",
    "As a data analyst, you are tasked to answer the following questions to obtain insights about the data and to conduct predictive modeling to **forecast the presence of heart failure** (variable HeartDisease).\n",
    "\n",
    "#### Data Dictionary \n",
    "\n",
    "- Age: age of the patient [years]\n",
    "- Sex: sex of the patient [M: Male, F: Female]\n",
    "- ChestPainType: chest pain type [TA: Typical Angina, ATA: Atypical Angina, NAP: Non-Anginal\n",
    "Pain, ASY: Asymptomatic]\n",
    "- RestingBP: resting blood pressure [mm Hg]\n",
    "- Cholesterol: serum cholesterol [mm/dl]\n",
    "- FastingBS: fasting blood sugar [1: if FastingBS > 120 mg/dl, 0: otherwise]\n",
    "- RestingECG: resting electrocardiogram results [Normal: Normal, ST: having ST-T wave abnormality\n",
    "(T wave inversions and/or ST elevation or depression of > 0.05 mV), LVH: showing probable or\n",
    "definite left ventricular hypertrophy by Estes' criteria]\n",
    "- MaxHR: maximum heart rate achieved [Numeric value between 60 and 202]\n",
    "- ExerciseAngina: exercise-induced angina [Y: Yes, N: No]\n",
    "- Oldpeak: oldpeak = ST [Numeric value measured in depression]\n",
    "- ST_Slope: the slope of the peak exercise ST segment [Up: upsloping, Flat: flat, Down: downsloping]\n",
    "- HeartDisease: output class [**1: heart disease, 0: Normal**]\n"
   ]
  },
  {
   "cell_type": "code",
   "execution_count": 1,
   "id": "45c71b2f",
   "metadata": {},
   "outputs": [],
   "source": [
    "import pandas as pd\n",
    "import numpy as np\n",
    "import seaborn as sns\n",
    "sns.set_style(\"whitegrid\")\n",
    "\n",
    "import matplotlib.pyplot as plt\n",
    "import sklearn"
   ]
  },
  {
   "cell_type": "code",
   "execution_count": 2,
   "id": "737e5546",
   "metadata": {},
   "outputs": [],
   "source": [
    "df = pd.read_csv(\"heart.csv\")"
   ]
  },
  {
   "cell_type": "markdown",
   "id": "ad9bd705",
   "metadata": {},
   "source": [
    "### 1. Exploratory data analysis\n",
    "\n",
    "**a)** Get a description, general information, data types, and shape of the dataset."
   ]
  },
  {
   "cell_type": "code",
   "execution_count": 3,
   "id": "3dca18b7",
   "metadata": {
    "scrolled": true
   },
   "outputs": [
    {
     "data": {
      "text/html": [
       "<div>\n",
       "<style scoped>\n",
       "    .dataframe tbody tr th:only-of-type {\n",
       "        vertical-align: middle;\n",
       "    }\n",
       "\n",
       "    .dataframe tbody tr th {\n",
       "        vertical-align: top;\n",
       "    }\n",
       "\n",
       "    .dataframe thead th {\n",
       "        text-align: right;\n",
       "    }\n",
       "</style>\n",
       "<table border=\"1\" class=\"dataframe\">\n",
       "  <thead>\n",
       "    <tr style=\"text-align: right;\">\n",
       "      <th></th>\n",
       "      <th>Age</th>\n",
       "      <th>Sex</th>\n",
       "      <th>ChestPainType</th>\n",
       "      <th>RestingBP</th>\n",
       "      <th>Cholesterol</th>\n",
       "      <th>FastingBS</th>\n",
       "      <th>RestingECG</th>\n",
       "      <th>MaxHR</th>\n",
       "      <th>ExerciseAngina</th>\n",
       "      <th>Oldpeak</th>\n",
       "      <th>ST_Slope</th>\n",
       "      <th>HeartDisease</th>\n",
       "    </tr>\n",
       "  </thead>\n",
       "  <tbody>\n",
       "    <tr>\n",
       "      <th>0</th>\n",
       "      <td>40</td>\n",
       "      <td>M</td>\n",
       "      <td>ATA</td>\n",
       "      <td>140</td>\n",
       "      <td>289</td>\n",
       "      <td>0</td>\n",
       "      <td>Normal</td>\n",
       "      <td>172</td>\n",
       "      <td>N</td>\n",
       "      <td>0.0</td>\n",
       "      <td>Up</td>\n",
       "      <td>0</td>\n",
       "    </tr>\n",
       "    <tr>\n",
       "      <th>1</th>\n",
       "      <td>49</td>\n",
       "      <td>F</td>\n",
       "      <td>NAP</td>\n",
       "      <td>160</td>\n",
       "      <td>180</td>\n",
       "      <td>0</td>\n",
       "      <td>Normal</td>\n",
       "      <td>156</td>\n",
       "      <td>N</td>\n",
       "      <td>1.0</td>\n",
       "      <td>Flat</td>\n",
       "      <td>1</td>\n",
       "    </tr>\n",
       "    <tr>\n",
       "      <th>2</th>\n",
       "      <td>37</td>\n",
       "      <td>M</td>\n",
       "      <td>ATA</td>\n",
       "      <td>130</td>\n",
       "      <td>283</td>\n",
       "      <td>0</td>\n",
       "      <td>ST</td>\n",
       "      <td>98</td>\n",
       "      <td>N</td>\n",
       "      <td>0.0</td>\n",
       "      <td>Up</td>\n",
       "      <td>0</td>\n",
       "    </tr>\n",
       "    <tr>\n",
       "      <th>3</th>\n",
       "      <td>48</td>\n",
       "      <td>F</td>\n",
       "      <td>ASY</td>\n",
       "      <td>138</td>\n",
       "      <td>214</td>\n",
       "      <td>0</td>\n",
       "      <td>Normal</td>\n",
       "      <td>108</td>\n",
       "      <td>Y</td>\n",
       "      <td>1.5</td>\n",
       "      <td>Flat</td>\n",
       "      <td>1</td>\n",
       "    </tr>\n",
       "    <tr>\n",
       "      <th>4</th>\n",
       "      <td>54</td>\n",
       "      <td>M</td>\n",
       "      <td>NAP</td>\n",
       "      <td>150</td>\n",
       "      <td>195</td>\n",
       "      <td>0</td>\n",
       "      <td>Normal</td>\n",
       "      <td>122</td>\n",
       "      <td>N</td>\n",
       "      <td>0.0</td>\n",
       "      <td>Up</td>\n",
       "      <td>0</td>\n",
       "    </tr>\n",
       "  </tbody>\n",
       "</table>\n",
       "</div>"
      ],
      "text/plain": [
       "   Age Sex ChestPainType  RestingBP  Cholesterol  FastingBS RestingECG  MaxHR  \\\n",
       "0   40   M           ATA        140          289          0     Normal    172   \n",
       "1   49   F           NAP        160          180          0     Normal    156   \n",
       "2   37   M           ATA        130          283          0         ST     98   \n",
       "3   48   F           ASY        138          214          0     Normal    108   \n",
       "4   54   M           NAP        150          195          0     Normal    122   \n",
       "\n",
       "  ExerciseAngina  Oldpeak ST_Slope  HeartDisease  \n",
       "0              N      0.0       Up             0  \n",
       "1              N      1.0     Flat             1  \n",
       "2              N      0.0       Up             0  \n",
       "3              Y      1.5     Flat             1  \n",
       "4              N      0.0       Up             0  "
      ]
     },
     "execution_count": 3,
     "metadata": {},
     "output_type": "execute_result"
    }
   ],
   "source": [
    "df.head()"
   ]
  },
  {
   "cell_type": "code",
   "execution_count": 4,
   "id": "21fcbe0a",
   "metadata": {
    "scrolled": true
   },
   "outputs": [
    {
     "data": {
      "text/html": [
       "<div>\n",
       "<style scoped>\n",
       "    .dataframe tbody tr th:only-of-type {\n",
       "        vertical-align: middle;\n",
       "    }\n",
       "\n",
       "    .dataframe tbody tr th {\n",
       "        vertical-align: top;\n",
       "    }\n",
       "\n",
       "    .dataframe thead th {\n",
       "        text-align: right;\n",
       "    }\n",
       "</style>\n",
       "<table border=\"1\" class=\"dataframe\">\n",
       "  <thead>\n",
       "    <tr style=\"text-align: right;\">\n",
       "      <th></th>\n",
       "      <th>Age</th>\n",
       "      <th>RestingBP</th>\n",
       "      <th>Cholesterol</th>\n",
       "      <th>FastingBS</th>\n",
       "      <th>MaxHR</th>\n",
       "      <th>Oldpeak</th>\n",
       "      <th>HeartDisease</th>\n",
       "    </tr>\n",
       "  </thead>\n",
       "  <tbody>\n",
       "    <tr>\n",
       "      <th>count</th>\n",
       "      <td>918.000000</td>\n",
       "      <td>918.000000</td>\n",
       "      <td>918.000000</td>\n",
       "      <td>918.000000</td>\n",
       "      <td>918.000000</td>\n",
       "      <td>918.000000</td>\n",
       "      <td>918.000000</td>\n",
       "    </tr>\n",
       "    <tr>\n",
       "      <th>mean</th>\n",
       "      <td>53.510893</td>\n",
       "      <td>132.396514</td>\n",
       "      <td>198.799564</td>\n",
       "      <td>0.233115</td>\n",
       "      <td>136.809368</td>\n",
       "      <td>0.887364</td>\n",
       "      <td>0.553377</td>\n",
       "    </tr>\n",
       "    <tr>\n",
       "      <th>std</th>\n",
       "      <td>9.432617</td>\n",
       "      <td>18.514154</td>\n",
       "      <td>109.384145</td>\n",
       "      <td>0.423046</td>\n",
       "      <td>25.460334</td>\n",
       "      <td>1.066570</td>\n",
       "      <td>0.497414</td>\n",
       "    </tr>\n",
       "    <tr>\n",
       "      <th>min</th>\n",
       "      <td>28.000000</td>\n",
       "      <td>0.000000</td>\n",
       "      <td>0.000000</td>\n",
       "      <td>0.000000</td>\n",
       "      <td>60.000000</td>\n",
       "      <td>-2.600000</td>\n",
       "      <td>0.000000</td>\n",
       "    </tr>\n",
       "    <tr>\n",
       "      <th>25%</th>\n",
       "      <td>47.000000</td>\n",
       "      <td>120.000000</td>\n",
       "      <td>173.250000</td>\n",
       "      <td>0.000000</td>\n",
       "      <td>120.000000</td>\n",
       "      <td>0.000000</td>\n",
       "      <td>0.000000</td>\n",
       "    </tr>\n",
       "    <tr>\n",
       "      <th>50%</th>\n",
       "      <td>54.000000</td>\n",
       "      <td>130.000000</td>\n",
       "      <td>223.000000</td>\n",
       "      <td>0.000000</td>\n",
       "      <td>138.000000</td>\n",
       "      <td>0.600000</td>\n",
       "      <td>1.000000</td>\n",
       "    </tr>\n",
       "    <tr>\n",
       "      <th>75%</th>\n",
       "      <td>60.000000</td>\n",
       "      <td>140.000000</td>\n",
       "      <td>267.000000</td>\n",
       "      <td>0.000000</td>\n",
       "      <td>156.000000</td>\n",
       "      <td>1.500000</td>\n",
       "      <td>1.000000</td>\n",
       "    </tr>\n",
       "    <tr>\n",
       "      <th>max</th>\n",
       "      <td>77.000000</td>\n",
       "      <td>200.000000</td>\n",
       "      <td>603.000000</td>\n",
       "      <td>1.000000</td>\n",
       "      <td>202.000000</td>\n",
       "      <td>6.200000</td>\n",
       "      <td>1.000000</td>\n",
       "    </tr>\n",
       "  </tbody>\n",
       "</table>\n",
       "</div>"
      ],
      "text/plain": [
       "              Age   RestingBP  Cholesterol   FastingBS       MaxHR  \\\n",
       "count  918.000000  918.000000   918.000000  918.000000  918.000000   \n",
       "mean    53.510893  132.396514   198.799564    0.233115  136.809368   \n",
       "std      9.432617   18.514154   109.384145    0.423046   25.460334   \n",
       "min     28.000000    0.000000     0.000000    0.000000   60.000000   \n",
       "25%     47.000000  120.000000   173.250000    0.000000  120.000000   \n",
       "50%     54.000000  130.000000   223.000000    0.000000  138.000000   \n",
       "75%     60.000000  140.000000   267.000000    0.000000  156.000000   \n",
       "max     77.000000  200.000000   603.000000    1.000000  202.000000   \n",
       "\n",
       "          Oldpeak  HeartDisease  \n",
       "count  918.000000    918.000000  \n",
       "mean     0.887364      0.553377  \n",
       "std      1.066570      0.497414  \n",
       "min     -2.600000      0.000000  \n",
       "25%      0.000000      0.000000  \n",
       "50%      0.600000      1.000000  \n",
       "75%      1.500000      1.000000  \n",
       "max      6.200000      1.000000  "
      ]
     },
     "execution_count": 4,
     "metadata": {},
     "output_type": "execute_result"
    }
   ],
   "source": [
    "# Now, let's check some fundamental statistics of the data set\n",
    "df.describe()"
   ]
  },
  {
   "cell_type": "markdown",
   "id": "74f6a2f4",
   "metadata": {},
   "source": [
    "<span style=\"color:crimson\"> There are some **suspicious minimun values**. `RestingBP` and `Cholesterol` shouldn't be zero, this probably represents the absence of the measure for the patience. \n",
    "For `Oldpeak`, the presence of a negative minimun value drags our attention, but understanding the value as a difference compared to a baseline let's assume is not necessarily a mistake </span>  "
   ]
  },
  {
   "cell_type": "code",
   "execution_count": 5,
   "id": "48c287ec",
   "metadata": {
    "scrolled": true
   },
   "outputs": [
    {
     "data": {
      "text/html": [
       "<div>\n",
       "<style scoped>\n",
       "    .dataframe tbody tr th:only-of-type {\n",
       "        vertical-align: middle;\n",
       "    }\n",
       "\n",
       "    .dataframe tbody tr th {\n",
       "        vertical-align: top;\n",
       "    }\n",
       "\n",
       "    .dataframe thead th {\n",
       "        text-align: right;\n",
       "    }\n",
       "</style>\n",
       "<table border=\"1\" class=\"dataframe\">\n",
       "  <thead>\n",
       "    <tr style=\"text-align: right;\">\n",
       "      <th></th>\n",
       "      <th>Sex</th>\n",
       "      <th>ChestPainType</th>\n",
       "      <th>RestingECG</th>\n",
       "      <th>ExerciseAngina</th>\n",
       "      <th>ST_Slope</th>\n",
       "    </tr>\n",
       "  </thead>\n",
       "  <tbody>\n",
       "    <tr>\n",
       "      <th>count</th>\n",
       "      <td>918</td>\n",
       "      <td>918</td>\n",
       "      <td>918</td>\n",
       "      <td>918</td>\n",
       "      <td>918</td>\n",
       "    </tr>\n",
       "    <tr>\n",
       "      <th>unique</th>\n",
       "      <td>2</td>\n",
       "      <td>4</td>\n",
       "      <td>3</td>\n",
       "      <td>2</td>\n",
       "      <td>3</td>\n",
       "    </tr>\n",
       "    <tr>\n",
       "      <th>top</th>\n",
       "      <td>M</td>\n",
       "      <td>ASY</td>\n",
       "      <td>Normal</td>\n",
       "      <td>N</td>\n",
       "      <td>Flat</td>\n",
       "    </tr>\n",
       "    <tr>\n",
       "      <th>freq</th>\n",
       "      <td>725</td>\n",
       "      <td>496</td>\n",
       "      <td>552</td>\n",
       "      <td>547</td>\n",
       "      <td>460</td>\n",
       "    </tr>\n",
       "  </tbody>\n",
       "</table>\n",
       "</div>"
      ],
      "text/plain": [
       "        Sex ChestPainType RestingECG ExerciseAngina ST_Slope\n",
       "count   918           918        918            918      918\n",
       "unique    2             4          3              2        3\n",
       "top       M           ASY     Normal              N     Flat\n",
       "freq    725           496        552            547      460"
      ]
     },
     "execution_count": 5,
     "metadata": {},
     "output_type": "execute_result"
    }
   ],
   "source": [
    "# Now a description of our categorical values\n",
    "df.describe(include=\"object\")"
   ]
  },
  {
   "cell_type": "code",
   "execution_count": 6,
   "id": "ef20b280",
   "metadata": {},
   "outputs": [
    {
     "data": {
      "text/plain": [
       "(918, 12)"
      ]
     },
     "execution_count": 6,
     "metadata": {},
     "output_type": "execute_result"
    }
   ],
   "source": [
    "df.shape"
   ]
  },
  {
   "cell_type": "code",
   "execution_count": 7,
   "id": "099046a1",
   "metadata": {},
   "outputs": [
    {
     "name": "stdout",
     "output_type": "stream",
     "text": [
      "<class 'pandas.core.frame.DataFrame'>\n",
      "RangeIndex: 918 entries, 0 to 917\n",
      "Data columns (total 12 columns):\n",
      " #   Column          Non-Null Count  Dtype  \n",
      "---  ------          --------------  -----  \n",
      " 0   Age             918 non-null    int64  \n",
      " 1   Sex             918 non-null    object \n",
      " 2   ChestPainType   918 non-null    object \n",
      " 3   RestingBP       918 non-null    int64  \n",
      " 4   Cholesterol     918 non-null    int64  \n",
      " 5   FastingBS       918 non-null    int64  \n",
      " 6   RestingECG      918 non-null    object \n",
      " 7   MaxHR           918 non-null    int64  \n",
      " 8   ExerciseAngina  918 non-null    object \n",
      " 9   Oldpeak         918 non-null    float64\n",
      " 10  ST_Slope        918 non-null    object \n",
      " 11  HeartDisease    918 non-null    int64  \n",
      "dtypes: float64(1), int64(6), object(5)\n",
      "memory usage: 86.2+ KB\n"
     ]
    }
   ],
   "source": [
    "df.info()"
   ]
  },
  {
   "cell_type": "markdown",
   "id": "70225036",
   "metadata": {},
   "source": [
    "<span style=\"color:crimson\"> We see there are not missing values but there are some imprecise data types. I'll adjust `FastingBS` and `HeartDisease` **to integer or boolean** variables, as they can only be either 0 or 1. </span>"
   ]
  },
  {
   "cell_type": "markdown",
   "id": "1b729a16",
   "metadata": {},
   "source": [
    "**b)** Determine the frequency of distinct values for each feature in the dataset."
   ]
  },
  {
   "cell_type": "code",
   "execution_count": 55,
   "id": "38a9247b",
   "metadata": {
    "scrolled": true
   },
   "outputs": [
    {
     "data": {
      "image/png": "[encoded data removed]",
      "text/plain": [
       "<Figure size 288x288 with 1 Axes>"
      ]
     },
     "metadata": {
      "needs_background": "light"
     },
     "output_type": "display_data"
    },
    {
     "data": {
      "image/png": "[encoded data removed]",
      "text/plain": [
       "<Figure size 288x288 with 1 Axes>"
      ]
     },
     "metadata": {
      "needs_background": "light"
     },
     "output_type": "display_data"
    },
    {
     "data": {
      "image/png": "[encoded data removed]",
      "text/plain": [
       "<Figure size 288x288 with 1 Axes>"
      ]
     },
     "metadata": {
      "needs_background": "light"
     },
     "output_type": "display_data"
    },
    {
     "data": {
      "image/png": "[encoded data removed]",
      "text/plain": [
       "<Figure size 288x288 with 1 Axes>"
      ]
     },
     "metadata": {
      "needs_background": "light"
     },
     "output_type": "display_data"
    },
    {
     "data": {
      "image/png": "[encoded data removed]",
      "text/plain": [
       "<Figure size 288x288 with 1 Axes>"
      ]
     },
     "metadata": {
      "needs_background": "light"
     },
     "output_type": "display_data"
    },
    {
     "data": {
      "image/png": "[encoded data removed]",
      "text/plain": [
       "<Figure size 288x288 with 1 Axes>"
      ]
     },
     "metadata": {
      "needs_background": "light"
     },
     "output_type": "display_data"
    },
    {
     "data": {
      "image/png": "[encoded data removed]",
      "text/plain": [
       "<Figure size 288x288 with 1 Axes>"
      ]
     },
     "metadata": {
      "needs_background": "light"
     },
     "output_type": "display_data"
    },
    {
     "data": {
      "image/png": "[encoded data removed]",
      "text/plain": [
       "<Figure size 288x288 with 1 Axes>"
      ]
     },
     "metadata": {
      "needs_background": "light"
     },
     "output_type": "display_data"
    },
    {
     "data": {
      "image/png": "[encoded data removed]",
      "text/plain": [
       "<Figure size 288x288 with 1 Axes>"
      ]
     },
     "metadata": {
      "needs_background": "light"
     },
     "output_type": "display_data"
    },
    {
     "data": {
      "image/png": "[encoded data removed]",
      "text/plain": [
       "<Figure size 288x288 with 1 Axes>"
      ]
     },
     "metadata": {
      "needs_background": "light"
     },
     "output_type": "display_data"
    },
    {
     "data": {
      "image/png": "[encoded data removed]",
      "text/plain": [
       "<Figure size 288x288 with 1 Axes>"
      ]
     },
     "metadata": {
      "needs_background": "light"
     },
     "output_type": "display_data"
    },
    {
     "data": {
      "image/png": "[encoded data removed]",
      "text/plain": [
       "<Figure size 288x288 with 1 Axes>"
      ]
     },
     "metadata": {
      "needs_background": "light"
     },
     "output_type": "display_data"
    }
   ],
   "source": [
    "for column in df.columns:\n",
    "    sns.displot(data=df, x=column,height=4)"
   ]
  },
  {
   "cell_type": "code",
   "execution_count": 77,
   "id": "37e75d78",
   "metadata": {
    "scrolled": true
   },
   "outputs": [
    {
     "name": "stdout",
     "output_type": "stream",
     "text": [
      "Count for Age:\n",
      "54    51\n",
      "58    42\n",
      "55    41\n",
      "56    38\n",
      "57    38\n",
      "52    36\n",
      "51    35\n",
      "59    35\n",
      "62    35\n",
      "53    33\n",
      "60    32\n",
      "48    31\n",
      "61    31\n",
      "63    30\n",
      "50    25\n",
      "46    24\n",
      "41    24\n",
      "43    24\n",
      "64    22\n",
      "65    21\n",
      "49    21\n",
      "47    19\n",
      "44    19\n",
      "42    18\n",
      "45    18\n",
      "38    16\n",
      "67    15\n",
      "39    15\n",
      "66    13\n",
      "69    13\n",
      "40    13\n",
      "35    11\n",
      "37    11\n",
      "68    10\n",
      "34     7\n",
      "74     7\n",
      "70     7\n",
      "36     6\n",
      "71     5\n",
      "32     5\n",
      "72     4\n",
      "29     3\n",
      "75     3\n",
      "33     2\n",
      "77     2\n",
      "76     2\n",
      "31     2\n",
      "30     1\n",
      "28     1\n",
      "73     1\n",
      "Name: Age, dtype: int64\n",
      "\n",
      "Count for Sex:\n",
      "M    725\n",
      "F    193\n",
      "Name: Sex, dtype: int64\n",
      "\n",
      "Count for ChestPainType:\n",
      "ASY    496\n",
      "NAP    203\n",
      "ATA    173\n",
      "TA      46\n",
      "Name: ChestPainType, dtype: int64\n",
      "\n",
      "Count for RestingBP:\n",
      "120    132\n",
      "130    118\n",
      "140    107\n",
      "110     58\n",
      "150     55\n",
      "      ... \n",
      "185      1\n",
      "98       1\n",
      "92       1\n",
      "113      1\n",
      "164      1\n",
      "Name: RestingBP, Length: 67, dtype: int64\n",
      "\n",
      "Count for Cholesterol:\n",
      "0      172\n",
      "254     11\n",
      "223     10\n",
      "220     10\n",
      "230      9\n",
      "      ... \n",
      "392      1\n",
      "316      1\n",
      "153      1\n",
      "466      1\n",
      "131      1\n",
      "Name: Cholesterol, Length: 222, dtype: int64\n",
      "\n",
      "Count for FastingBS:\n",
      "0    704\n",
      "1    214\n",
      "Name: FastingBS, dtype: int64\n",
      "\n",
      "Count for RestingECG:\n",
      "Normal    552\n",
      "LVH       188\n",
      "ST        178\n",
      "Name: RestingECG, dtype: int64\n",
      "\n",
      "Count for MaxHR:\n",
      "150    43\n",
      "140    41\n",
      "120    36\n",
      "130    33\n",
      "160    25\n",
      "       ..\n",
      "63      1\n",
      "83      1\n",
      "60      1\n",
      "78      1\n",
      "202     1\n",
      "Name: MaxHR, Length: 119, dtype: int64\n",
      "\n",
      "Count for ExerciseAngina:\n",
      "N    547\n",
      "Y    371\n",
      "Name: ExerciseAngina, dtype: int64\n",
      "\n",
      "Count for Oldpeak:\n",
      " 0.0    368\n",
      " 1.0     86\n",
      " 2.0     76\n",
      " 1.5     53\n",
      " 3.0     28\n",
      " 1.2     26\n",
      " 0.2     22\n",
      " 0.5     19\n",
      " 1.4     18\n",
      " 1.8     17\n",
      " 2.5     16\n",
      " 0.8     16\n",
      " 1.6     16\n",
      " 0.1     14\n",
      " 0.6     14\n",
      " 0.4     11\n",
      " 0.3     11\n",
      " 4.0      8\n",
      " 0.7      7\n",
      " 2.8      7\n",
      " 1.9      7\n",
      " 1.3      7\n",
      " 2.6      7\n",
      " 1.1      7\n",
      " 1.7      6\n",
      " 2.2      5\n",
      " 0.9      4\n",
      " 2.4      4\n",
      " 3.6      4\n",
      " 3.4      3\n",
      " 4.2      2\n",
      " 3.5      2\n",
      "-0.5      2\n",
      " 2.3      2\n",
      " 3.2      2\n",
      " 2.1      2\n",
      "-1.0      2\n",
      "-0.1      2\n",
      " 5.6      1\n",
      " 2.9      1\n",
      " 6.2      1\n",
      " 3.8      1\n",
      "-1.5      1\n",
      " 3.1      1\n",
      "-2.0      1\n",
      " 3.7      1\n",
      "-0.8      1\n",
      "-0.7      1\n",
      "-1.1      1\n",
      "-2.6      1\n",
      "-0.9      1\n",
      " 5.0      1\n",
      " 4.4      1\n",
      "Name: Oldpeak, dtype: int64\n",
      "\n",
      "Count for ST_Slope:\n",
      "Flat    460\n",
      "Up      395\n",
      "Down     63\n",
      "Name: ST_Slope, dtype: int64\n",
      "\n",
      "Count for HeartDisease:\n",
      "1    508\n",
      "0    410\n",
      "Name: HeartDisease, dtype: int64\n",
      "\n"
     ]
    }
   ],
   "source": [
    "for column in df.columns:\n",
    "    print(f'Count for {column}:')\n",
    "    print(f'{df[column].value_counts()}\\n')"
   ]
  },
  {
   "cell_type": "markdown",
   "id": "477310e1",
   "metadata": {},
   "source": [
    "<span style=\"color:crimson\"> Following our initial **suspicious minimun values**. We see that `RestingBP` has a small portion  of irregular values. In contrast, `Cholesterol` has a significant number around 19% of our dataset. </span> "
   ]
  },
  {
   "cell_type": "markdown",
   "id": "416c271d",
   "metadata": {},
   "source": [
    "**c)** Plot all features in the dataset to check distribution using a histogram."
   ]
  },
  {
   "cell_type": "code",
   "execution_count": 90,
   "id": "2a8a277e",
   "metadata": {},
   "outputs": [
    {
     "data": {
      "text/plain": [
       "<AxesSubplot:xlabel='Oldpeak', ylabel='Count'>"
      ]
     },
     "execution_count": 90,
     "metadata": {},
     "output_type": "execute_result"
    },
    {
     "data": {
      "image/png": "[encoded data removed]",
      "text/plain": [
       "<Figure size 1080x720 with 6 Axes>"
      ]
     },
     "metadata": {
      "needs_background": "light"
     },
     "output_type": "display_data"
    }
   ],
   "source": [
    "fig, axes = plt.subplots(2, 3, figsize=(15,10))\n",
    "\n",
    "sns.histplot(ax=axes[0,0], data=df['Age'], kde=True)\n",
    "sns.histplot(ax=axes[0,1], data=df['RestingBP'], kde=True)\n",
    "sns.histplot(ax=axes[0,2], data=df['Cholesterol'], kde=True)\n",
    "\n",
    "sns.histplot(ax=axes[1,0], data=df['MaxHR'], kde=True)\n",
    "sns.histplot(ax=axes[1,1], data=df['Oldpeak'], kde=True)"
   ]
  },
  {
   "cell_type": "markdown",
   "id": "2084fc96",
   "metadata": {},
   "source": [
    "While `Age` appears to follow a normal distribution, we can't say the same for the remaing features. `MaxHR` looks closer to a uniform distribution, whereas `RestingBP` seems left skewed, and the atypical minimum values in `Cholesterol` distort what other way would look like a normal distribution."
   ]
  },
  {
   "cell_type": "markdown",
   "id": "e67d1f8e",
   "metadata": {},
   "source": [
    "**d)** Use a correlation matrix to check for correlation between predictor variables and\n",
    "drop correlated features (> 0.5)."
   ]
  },
  {
   "cell_type": "code",
   "execution_count": 126,
   "id": "1fb73726",
   "metadata": {
    "scrolled": false
   },
   "outputs": [
    {
     "data": {
      "text/plain": [
       "<AxesSubplot:>"
      ]
     },
     "execution_count": 126,
     "metadata": {},
     "output_type": "execute_result"
    },
    {
     "data": {
      "image/png": "[encoded data removed]",
      "text/plain": [
       "<Figure size 504x504 with 2 Axes>"
      ]
     },
     "metadata": {},
     "output_type": "display_data"
    }
   ],
   "source": [
    "plt.figure(figsize=(7,7))\n",
    "sns.heatmap(df.corr(), annot=True,cmap = \"cool\", fmt=\".1f\", linewidths=.5, annot_kws={\"fontsize\":15} )"
   ]
  },
  {
   "cell_type": "markdown",
   "id": "3c9221aa",
   "metadata": {},
   "source": [
    "The correlation matrix looks good, there is not need to drop too highly correlated values. "
   ]
  },
  {
   "cell_type": "markdown",
   "id": "d7699113",
   "metadata": {},
   "source": [
    "### 2. Feature Engineering \n",
    "\n",
    "**a)** Check and drop duplicate and missing values, if it’s the case."
   ]
  },
  {
   "cell_type": "code",
   "execution_count": 6,
   "id": "8d971458",
   "metadata": {
    "scrolled": true
   },
   "outputs": [
    {
     "name": "stdout",
     "output_type": "stream",
     "text": [
      "Duplicated values: 0\n",
      "(918, 12)\n"
     ]
    }
   ],
   "source": [
    "print(f'Duplicated values: {df.duplicated().sum()}')\n",
    "print(df.shape)\n",
    "\n",
    "# print(df[df.duplicated()]) # to see duplicated rows"
   ]
  },
  {
   "cell_type": "code",
   "execution_count": 7,
   "id": "cf44b40c",
   "metadata": {},
   "outputs": [
    {
     "data": {
      "text/plain": [
       "(918, 12)"
      ]
     },
     "execution_count": 7,
     "metadata": {},
     "output_type": "execute_result"
    }
   ],
   "source": [
    "#in this case, we don't have duplicate values, so the shape of the df will remain the same after the attempt of dropping them\n",
    "df = df.drop_duplicates() \n",
    "df.shape"
   ]
  },
  {
   "cell_type": "markdown",
   "id": "32a914b7",
   "metadata": {},
   "source": [
    "**b)** Check and manage imbalance class, if needed.\n",
    "\n",
    "As plotted in the count plots before, the classes look balanced. There is not need for using oversampling and undersampling techniques.\n",
    "\n",
    "**c)** Check (Use boxplots) and take care of outliers (e.g. Cholesterol, Oldpeak) by completing imputation."
   ]
  },
  {
   "cell_type": "code",
   "execution_count": 45,
   "id": "0d4df587",
   "metadata": {},
   "outputs": [
    {
     "data": {
      "text/plain": [
       "<AxesSubplot:title={'center':'Oldpeak'}>"
      ]
     },
     "execution_count": 45,
     "metadata": {},
     "output_type": "execute_result"
    },
    {
     "data": {
      "image/png": "[encoded data removed]",
      "text/plain": [
       "<Figure size 1440x576 with 6 Axes>"
      ]
     },
     "metadata": {},
     "output_type": "display_data"
    }
   ],
   "source": [
    "fig, axes = plt.subplots(2, 3, figsize=(20,8))\n",
    "\n",
    "#define titles\n",
    "axes[0,0].set_title('Age', fontsize=18)\n",
    "axes[0,1].set_title('RestingBP', fontsize=18)\n",
    "axes[0,2].set_title('Cholesterol', fontsize=18)\n",
    "axes[1,0].set_title('MaxHR', fontsize=18)\n",
    "axes[1,1].set_title('Oldpeak', fontsize=18)\n",
    "\n",
    "#create the graphs\n",
    "sns.boxplot(ax=axes[0,0], data=df['Age'], orient=\"h\")\n",
    "sns.boxplot(ax=axes[0,1], data=df['RestingBP'], orient=\"h\")\n",
    "sns.boxplot(ax=axes[0,2], data=df['Cholesterol'], orient=\"h\")\n",
    "sns.boxplot(ax=axes[1,0], data=df['MaxHR'], orient=\"h\")\n",
    "sns.boxplot(ax=axes[1,1], data=df['Oldpeak'], orient=\"h\")"
   ]
  },
  {
   "cell_type": "markdown",
   "id": "9eee79fb",
   "metadata": {},
   "source": [
    "We can start by treating our previously identified feature issues, let's start fixing `RestingBP`:"
   ]
  },
  {
   "cell_type": "code",
   "execution_count": 4,
   "id": "fd60cdfb",
   "metadata": {},
   "outputs": [
    {
     "data": {
      "text/html": [
       "<div>\n",
       "<style scoped>\n",
       "    .dataframe tbody tr th:only-of-type {\n",
       "        vertical-align: middle;\n",
       "    }\n",
       "\n",
       "    .dataframe tbody tr th {\n",
       "        vertical-align: top;\n",
       "    }\n",
       "\n",
       "    .dataframe thead th {\n",
       "        text-align: right;\n",
       "    }\n",
       "</style>\n",
       "<table border=\"1\" class=\"dataframe\">\n",
       "  <thead>\n",
       "    <tr style=\"text-align: right;\">\n",
       "      <th></th>\n",
       "      <th>Age</th>\n",
       "      <th>Sex</th>\n",
       "      <th>ChestPainType</th>\n",
       "      <th>RestingBP</th>\n",
       "      <th>Cholesterol</th>\n",
       "      <th>FastingBS</th>\n",
       "      <th>RestingECG</th>\n",
       "      <th>MaxHR</th>\n",
       "      <th>ExerciseAngina</th>\n",
       "      <th>Oldpeak</th>\n",
       "      <th>ST_Slope</th>\n",
       "      <th>HeartDisease</th>\n",
       "    </tr>\n",
       "  </thead>\n",
       "  <tbody>\n",
       "    <tr>\n",
       "      <th>449</th>\n",
       "      <td>55</td>\n",
       "      <td>M</td>\n",
       "      <td>NAP</td>\n",
       "      <td>0</td>\n",
       "      <td>0</td>\n",
       "      <td>0</td>\n",
       "      <td>Normal</td>\n",
       "      <td>155</td>\n",
       "      <td>N</td>\n",
       "      <td>1.5</td>\n",
       "      <td>Flat</td>\n",
       "      <td>1</td>\n",
       "    </tr>\n",
       "  </tbody>\n",
       "</table>\n",
       "</div>"
      ],
      "text/plain": [
       "     Age Sex ChestPainType  RestingBP  Cholesterol  FastingBS RestingECG  \\\n",
       "449   55   M           NAP          0            0          0     Normal   \n",
       "\n",
       "     MaxHR ExerciseAngina  Oldpeak ST_Slope  HeartDisease  \n",
       "449    155              N      1.5     Flat             1  "
      ]
     },
     "execution_count": 4,
     "metadata": {},
     "output_type": "execute_result"
    }
   ],
   "source": [
    "df[df[\"RestingBP\"]==0]"
   ]
  },
  {
   "cell_type": "markdown",
   "id": "cc370b70",
   "metadata": {},
   "source": [
    "We see there is only one abnormal `0` value, we can affort to drop only this record "
   ]
  },
  {
   "cell_type": "code",
   "execution_count": 5,
   "id": "863d7f4b",
   "metadata": {},
   "outputs": [],
   "source": [
    "df = df[df[\"RestingBP\"]!=0]"
   ]
  },
  {
   "cell_type": "markdown",
   "id": "3317b160",
   "metadata": {},
   "source": [
    "Now, let's continue with the abnormal `0` values in `Cholesterol` :"
   ]
  },
  {
   "cell_type": "code",
   "execution_count": 6,
   "id": "46553530",
   "metadata": {},
   "outputs": [
    {
     "data": {
      "text/plain": [
       "171"
      ]
     },
     "execution_count": 6,
     "metadata": {},
     "output_type": "execute_result"
    }
   ],
   "source": [
    "df[df[\"Cholesterol\"]==0].value_counts().sum()"
   ]
  },
  {
   "cell_type": "markdown",
   "id": "c456bc7b",
   "metadata": {},
   "source": [
    "As previously shown by the count plot, there are `171` of entries with 0 value, too many to drop, but we can imputate them using the mean of the column  "
   ]
  },
  {
   "cell_type": "code",
   "execution_count": 7,
   "id": "0c53a7ae",
   "metadata": {},
   "outputs": [],
   "source": [
    "df[\"Cholesterol\"].replace(to_replace = 0, value = df[\"Cholesterol\"].mean(), inplace=True)"
   ]
  },
  {
   "cell_type": "markdown",
   "id": "5e85fb67",
   "metadata": {},
   "source": [
    "Finally, we can adjust the imprecise data types `FastingBS` and `HeartDisease` **to integer**:"
   ]
  },
  {
   "cell_type": "code",
   "execution_count": 8,
   "id": "6df0953b",
   "metadata": {},
   "outputs": [],
   "source": [
    "df[\"FastingBS\"] = df[\"FastingBS\"].astype(int)\n",
    "df[\"HeartDisease\"] = df[\"HeartDisease\"].astype(int)"
   ]
  },
  {
   "cell_type": "markdown",
   "id": "5545b08a",
   "metadata": {},
   "source": [
    "Let's check if our outliers are gone: "
   ]
  },
  {
   "cell_type": "code",
   "execution_count": 9,
   "id": "73e9773b",
   "metadata": {
    "scrolled": true
   },
   "outputs": [
    {
     "data": {
      "text/html": [
       "<div>\n",
       "<style scoped>\n",
       "    .dataframe tbody tr th:only-of-type {\n",
       "        vertical-align: middle;\n",
       "    }\n",
       "\n",
       "    .dataframe tbody tr th {\n",
       "        vertical-align: top;\n",
       "    }\n",
       "\n",
       "    .dataframe thead th {\n",
       "        text-align: right;\n",
       "    }\n",
       "</style>\n",
       "<table border=\"1\" class=\"dataframe\">\n",
       "  <thead>\n",
       "    <tr style=\"text-align: right;\">\n",
       "      <th></th>\n",
       "      <th>Age</th>\n",
       "      <th>RestingBP</th>\n",
       "      <th>Cholesterol</th>\n",
       "      <th>FastingBS</th>\n",
       "      <th>MaxHR</th>\n",
       "      <th>Oldpeak</th>\n",
       "      <th>HeartDisease</th>\n",
       "    </tr>\n",
       "  </thead>\n",
       "  <tbody>\n",
       "    <tr>\n",
       "      <th>count</th>\n",
       "      <td>917.000000</td>\n",
       "      <td>917.000000</td>\n",
       "      <td>917.000000</td>\n",
       "      <td>917.000000</td>\n",
       "      <td>917.000000</td>\n",
       "      <td>917.000000</td>\n",
       "      <td>917.000000</td>\n",
       "    </tr>\n",
       "    <tr>\n",
       "      <th>mean</th>\n",
       "      <td>53.509269</td>\n",
       "      <td>132.540894</td>\n",
       "      <td>236.128459</td>\n",
       "      <td>0.233370</td>\n",
       "      <td>136.789531</td>\n",
       "      <td>0.886696</td>\n",
       "      <td>0.552890</td>\n",
       "    </tr>\n",
       "    <tr>\n",
       "      <th>std</th>\n",
       "      <td>9.437636</td>\n",
       "      <td>17.999749</td>\n",
       "      <td>56.231401</td>\n",
       "      <td>0.423206</td>\n",
       "      <td>25.467129</td>\n",
       "      <td>1.066960</td>\n",
       "      <td>0.497466</td>\n",
       "    </tr>\n",
       "    <tr>\n",
       "      <th>min</th>\n",
       "      <td>28.000000</td>\n",
       "      <td>80.000000</td>\n",
       "      <td>85.000000</td>\n",
       "      <td>0.000000</td>\n",
       "      <td>60.000000</td>\n",
       "      <td>-2.600000</td>\n",
       "      <td>0.000000</td>\n",
       "    </tr>\n",
       "    <tr>\n",
       "      <th>25%</th>\n",
       "      <td>47.000000</td>\n",
       "      <td>120.000000</td>\n",
       "      <td>199.016358</td>\n",
       "      <td>0.000000</td>\n",
       "      <td>120.000000</td>\n",
       "      <td>0.000000</td>\n",
       "      <td>0.000000</td>\n",
       "    </tr>\n",
       "    <tr>\n",
       "      <th>50%</th>\n",
       "      <td>54.000000</td>\n",
       "      <td>130.000000</td>\n",
       "      <td>223.000000</td>\n",
       "      <td>0.000000</td>\n",
       "      <td>138.000000</td>\n",
       "      <td>0.600000</td>\n",
       "      <td>1.000000</td>\n",
       "    </tr>\n",
       "    <tr>\n",
       "      <th>75%</th>\n",
       "      <td>60.000000</td>\n",
       "      <td>140.000000</td>\n",
       "      <td>267.000000</td>\n",
       "      <td>0.000000</td>\n",
       "      <td>156.000000</td>\n",
       "      <td>1.500000</td>\n",
       "      <td>1.000000</td>\n",
       "    </tr>\n",
       "    <tr>\n",
       "      <th>max</th>\n",
       "      <td>77.000000</td>\n",
       "      <td>200.000000</td>\n",
       "      <td>603.000000</td>\n",
       "      <td>1.000000</td>\n",
       "      <td>202.000000</td>\n",
       "      <td>6.200000</td>\n",
       "      <td>1.000000</td>\n",
       "    </tr>\n",
       "  </tbody>\n",
       "</table>\n",
       "</div>"
      ],
      "text/plain": [
       "              Age   RestingBP  Cholesterol   FastingBS       MaxHR  \\\n",
       "count  917.000000  917.000000   917.000000  917.000000  917.000000   \n",
       "mean    53.509269  132.540894   236.128459    0.233370  136.789531   \n",
       "std      9.437636   17.999749    56.231401    0.423206   25.467129   \n",
       "min     28.000000   80.000000    85.000000    0.000000   60.000000   \n",
       "25%     47.000000  120.000000   199.016358    0.000000  120.000000   \n",
       "50%     54.000000  130.000000   223.000000    0.000000  138.000000   \n",
       "75%     60.000000  140.000000   267.000000    0.000000  156.000000   \n",
       "max     77.000000  200.000000   603.000000    1.000000  202.000000   \n",
       "\n",
       "          Oldpeak  HeartDisease  \n",
       "count  917.000000    917.000000  \n",
       "mean     0.886696      0.552890  \n",
       "std      1.066960      0.497466  \n",
       "min     -2.600000      0.000000  \n",
       "25%      0.000000      0.000000  \n",
       "50%      0.600000      1.000000  \n",
       "75%      1.500000      1.000000  \n",
       "max      6.200000      1.000000  "
      ]
     },
     "execution_count": 9,
     "metadata": {},
     "output_type": "execute_result"
    }
   ],
   "source": [
    "df.describe()"
   ]
  },
  {
   "cell_type": "code",
   "execution_count": 10,
   "id": "9f863f88",
   "metadata": {},
   "outputs": [
    {
     "name": "stdout",
     "output_type": "stream",
     "text": [
      "<class 'pandas.core.frame.DataFrame'>\n",
      "Int64Index: 917 entries, 0 to 917\n",
      "Data columns (total 12 columns):\n",
      " #   Column          Non-Null Count  Dtype  \n",
      "---  ------          --------------  -----  \n",
      " 0   Age             917 non-null    int64  \n",
      " 1   Sex             917 non-null    object \n",
      " 2   ChestPainType   917 non-null    object \n",
      " 3   RestingBP       917 non-null    int64  \n",
      " 4   Cholesterol     917 non-null    float64\n",
      " 5   FastingBS       917 non-null    int32  \n",
      " 6   RestingECG      917 non-null    object \n",
      " 7   MaxHR           917 non-null    int64  \n",
      " 8   ExerciseAngina  917 non-null    object \n",
      " 9   Oldpeak         917 non-null    float64\n",
      " 10  ST_Slope        917 non-null    object \n",
      " 11  HeartDisease    917 non-null    int32  \n",
      "dtypes: float64(2), int32(2), int64(3), object(5)\n",
      "memory usage: 86.0+ KB\n"
     ]
    }
   ],
   "source": [
    "# aswell as datatypes:\n",
    "df.info()"
   ]
  },
  {
   "cell_type": "code",
   "execution_count": 54,
   "id": "0d18f006",
   "metadata": {},
   "outputs": [
    {
     "data": {
      "text/plain": [
       "<AxesSubplot:title={'center':'Oldpeak'}>"
      ]
     },
     "execution_count": 54,
     "metadata": {},
     "output_type": "execute_result"
    },
    {
     "data": {
      "image/png": "[encoded data removed]",
      "text/plain": [
       "<Figure size 1440x576 with 6 Axes>"
      ]
     },
     "metadata": {},
     "output_type": "display_data"
    }
   ],
   "source": [
    "fig, axes = plt.subplots(2, 3, figsize=(20,8))\n",
    "\n",
    "#define title\n",
    "axes[0,0].set_title('Age', fontsize=18)\n",
    "axes[0,1].set_title('RestingBP', fontsize=18)\n",
    "axes[0,2].set_title('Cholesterol', fontsize=18)\n",
    "axes[1,0].set_title('MaxHR', fontsize=18)\n",
    "axes[1,1].set_title('Oldpeak', fontsize=18)\n",
    "\n",
    "#create the graphs\n",
    "sns.boxplot(ax=axes[0,0], data=df['Age'], orient=\"h\")\n",
    "sns.boxplot(ax=axes[0,1], data=df['RestingBP'], orient=\"h\")\n",
    "sns.boxplot(ax=axes[0,2], data=df['Cholesterol'], orient=\"h\")\n",
    "sns.boxplot(ax=axes[1,0], data=df['MaxHR'], orient=\"h\")\n",
    "sns.boxplot(ax=axes[1,1], data=df['Oldpeak'], orient=\"h\")"
   ]
  },
  {
   "cell_type": "markdown",
   "id": "3dfa5c36",
   "metadata": {},
   "source": [
    "<span style=\"color:crimson\"> For `Cholesterol`, `Oldpeak` and `RestingBP` there are still values above the upper whisker, but there are too many to be considered outliers, and they could be key in our predictors. They would be fixed when we standardize all features. <span>"
   ]
  },
  {
   "cell_type": "markdown",
   "id": "7012b6b9",
   "metadata": {},
   "source": [
    "**d)** Convert categorical data into numerical data using one-hot encoding or any other label encoding approach."
   ]
  },
  {
   "cell_type": "code",
   "execution_count": 11,
   "id": "a81d4c48",
   "metadata": {
    "scrolled": false
   },
   "outputs": [
    {
     "data": {
      "text/html": [
       "<div>\n",
       "<style scoped>\n",
       "    .dataframe tbody tr th:only-of-type {\n",
       "        vertical-align: middle;\n",
       "    }\n",
       "\n",
       "    .dataframe tbody tr th {\n",
       "        vertical-align: top;\n",
       "    }\n",
       "\n",
       "    .dataframe thead th {\n",
       "        text-align: right;\n",
       "    }\n",
       "</style>\n",
       "<table border=\"1\" class=\"dataframe\">\n",
       "  <thead>\n",
       "    <tr style=\"text-align: right;\">\n",
       "      <th></th>\n",
       "      <th>Sex</th>\n",
       "      <th>ChestPainType</th>\n",
       "      <th>RestingECG</th>\n",
       "      <th>ExerciseAngina</th>\n",
       "      <th>ST_Slope</th>\n",
       "    </tr>\n",
       "  </thead>\n",
       "  <tbody>\n",
       "    <tr>\n",
       "      <th>count</th>\n",
       "      <td>917</td>\n",
       "      <td>917</td>\n",
       "      <td>917</td>\n",
       "      <td>917</td>\n",
       "      <td>917</td>\n",
       "    </tr>\n",
       "    <tr>\n",
       "      <th>unique</th>\n",
       "      <td>2</td>\n",
       "      <td>4</td>\n",
       "      <td>3</td>\n",
       "      <td>2</td>\n",
       "      <td>3</td>\n",
       "    </tr>\n",
       "    <tr>\n",
       "      <th>top</th>\n",
       "      <td>M</td>\n",
       "      <td>ASY</td>\n",
       "      <td>Normal</td>\n",
       "      <td>N</td>\n",
       "      <td>Flat</td>\n",
       "    </tr>\n",
       "    <tr>\n",
       "      <th>freq</th>\n",
       "      <td>724</td>\n",
       "      <td>496</td>\n",
       "      <td>551</td>\n",
       "      <td>546</td>\n",
       "      <td>459</td>\n",
       "    </tr>\n",
       "  </tbody>\n",
       "</table>\n",
       "</div>"
      ],
      "text/plain": [
       "        Sex ChestPainType RestingECG ExerciseAngina ST_Slope\n",
       "count   917           917        917            917      917\n",
       "unique    2             4          3              2        3\n",
       "top       M           ASY     Normal              N     Flat\n",
       "freq    724           496        551            546      459"
      ]
     },
     "execution_count": 11,
     "metadata": {},
     "output_type": "execute_result"
    }
   ],
   "source": [
    "df.describe(include='object')"
   ]
  },
  {
   "cell_type": "code",
   "execution_count": 12,
   "id": "f3dde9c6",
   "metadata": {},
   "outputs": [],
   "source": [
    "df = pd.get_dummies(data=df,columns=[\"Sex\",\"ChestPainType\",\"RestingECG\",\"ExerciseAngina\",\"ST_Slope\"], drop_first=True)"
   ]
  },
  {
   "cell_type": "code",
   "execution_count": 13,
   "id": "d4581a01",
   "metadata": {},
   "outputs": [
    {
     "data": {
      "text/html": [
       "<div>\n",
       "<style scoped>\n",
       "    .dataframe tbody tr th:only-of-type {\n",
       "        vertical-align: middle;\n",
       "    }\n",
       "\n",
       "    .dataframe tbody tr th {\n",
       "        vertical-align: top;\n",
       "    }\n",
       "\n",
       "    .dataframe thead th {\n",
       "        text-align: right;\n",
       "    }\n",
       "</style>\n",
       "<table border=\"1\" class=\"dataframe\">\n",
       "  <thead>\n",
       "    <tr style=\"text-align: right;\">\n",
       "      <th></th>\n",
       "      <th>Age</th>\n",
       "      <th>RestingBP</th>\n",
       "      <th>Cholesterol</th>\n",
       "      <th>FastingBS</th>\n",
       "      <th>MaxHR</th>\n",
       "      <th>Oldpeak</th>\n",
       "      <th>HeartDisease</th>\n",
       "      <th>Sex_M</th>\n",
       "      <th>ChestPainType_ATA</th>\n",
       "      <th>ChestPainType_NAP</th>\n",
       "      <th>ChestPainType_TA</th>\n",
       "      <th>RestingECG_Normal</th>\n",
       "      <th>RestingECG_ST</th>\n",
       "      <th>ExerciseAngina_Y</th>\n",
       "      <th>ST_Slope_Flat</th>\n",
       "      <th>ST_Slope_Up</th>\n",
       "    </tr>\n",
       "  </thead>\n",
       "  <tbody>\n",
       "    <tr>\n",
       "      <th>0</th>\n",
       "      <td>40</td>\n",
       "      <td>140</td>\n",
       "      <td>289.0</td>\n",
       "      <td>0</td>\n",
       "      <td>172</td>\n",
       "      <td>0.0</td>\n",
       "      <td>0</td>\n",
       "      <td>1</td>\n",
       "      <td>1</td>\n",
       "      <td>0</td>\n",
       "      <td>0</td>\n",
       "      <td>1</td>\n",
       "      <td>0</td>\n",
       "      <td>0</td>\n",
       "      <td>0</td>\n",
       "      <td>1</td>\n",
       "    </tr>\n",
       "    <tr>\n",
       "      <th>1</th>\n",
       "      <td>49</td>\n",
       "      <td>160</td>\n",
       "      <td>180.0</td>\n",
       "      <td>0</td>\n",
       "      <td>156</td>\n",
       "      <td>1.0</td>\n",
       "      <td>1</td>\n",
       "      <td>0</td>\n",
       "      <td>0</td>\n",
       "      <td>1</td>\n",
       "      <td>0</td>\n",
       "      <td>1</td>\n",
       "      <td>0</td>\n",
       "      <td>0</td>\n",
       "      <td>1</td>\n",
       "      <td>0</td>\n",
       "    </tr>\n",
       "    <tr>\n",
       "      <th>2</th>\n",
       "      <td>37</td>\n",
       "      <td>130</td>\n",
       "      <td>283.0</td>\n",
       "      <td>0</td>\n",
       "      <td>98</td>\n",
       "      <td>0.0</td>\n",
       "      <td>0</td>\n",
       "      <td>1</td>\n",
       "      <td>1</td>\n",
       "      <td>0</td>\n",
       "      <td>0</td>\n",
       "      <td>0</td>\n",
       "      <td>1</td>\n",
       "      <td>0</td>\n",
       "      <td>0</td>\n",
       "      <td>1</td>\n",
       "    </tr>\n",
       "    <tr>\n",
       "      <th>3</th>\n",
       "      <td>48</td>\n",
       "      <td>138</td>\n",
       "      <td>214.0</td>\n",
       "      <td>0</td>\n",
       "      <td>108</td>\n",
       "      <td>1.5</td>\n",
       "      <td>1</td>\n",
       "      <td>0</td>\n",
       "      <td>0</td>\n",
       "      <td>0</td>\n",
       "      <td>0</td>\n",
       "      <td>1</td>\n",
       "      <td>0</td>\n",
       "      <td>1</td>\n",
       "      <td>1</td>\n",
       "      <td>0</td>\n",
       "    </tr>\n",
       "    <tr>\n",
       "      <th>4</th>\n",
       "      <td>54</td>\n",
       "      <td>150</td>\n",
       "      <td>195.0</td>\n",
       "      <td>0</td>\n",
       "      <td>122</td>\n",
       "      <td>0.0</td>\n",
       "      <td>0</td>\n",
       "      <td>1</td>\n",
       "      <td>0</td>\n",
       "      <td>1</td>\n",
       "      <td>0</td>\n",
       "      <td>1</td>\n",
       "      <td>0</td>\n",
       "      <td>0</td>\n",
       "      <td>0</td>\n",
       "      <td>1</td>\n",
       "    </tr>\n",
       "  </tbody>\n",
       "</table>\n",
       "</div>"
      ],
      "text/plain": [
       "   Age  RestingBP  Cholesterol  FastingBS  MaxHR  Oldpeak  HeartDisease  \\\n",
       "0   40        140        289.0          0    172      0.0             0   \n",
       "1   49        160        180.0          0    156      1.0             1   \n",
       "2   37        130        283.0          0     98      0.0             0   \n",
       "3   48        138        214.0          0    108      1.5             1   \n",
       "4   54        150        195.0          0    122      0.0             0   \n",
       "\n",
       "   Sex_M  ChestPainType_ATA  ChestPainType_NAP  ChestPainType_TA  \\\n",
       "0      1                  1                  0                 0   \n",
       "1      0                  0                  1                 0   \n",
       "2      1                  1                  0                 0   \n",
       "3      0                  0                  0                 0   \n",
       "4      1                  0                  1                 0   \n",
       "\n",
       "   RestingECG_Normal  RestingECG_ST  ExerciseAngina_Y  ST_Slope_Flat  \\\n",
       "0                  1              0                 0              0   \n",
       "1                  1              0                 0              1   \n",
       "2                  0              1                 0              0   \n",
       "3                  1              0                 1              1   \n",
       "4                  1              0                 0              0   \n",
       "\n",
       "   ST_Slope_Up  \n",
       "0            1  \n",
       "1            0  \n",
       "2            1  \n",
       "3            0  \n",
       "4            1  "
      ]
     },
     "execution_count": 13,
     "metadata": {},
     "output_type": "execute_result"
    }
   ],
   "source": [
    "df.head()"
   ]
  },
  {
   "cell_type": "markdown",
   "id": "b957b0a9",
   "metadata": {},
   "source": [
    "**e)** Rescale features to a narrow range using a normalization or standardization\n",
    "function."
   ]
  },
  {
   "cell_type": "markdown",
   "id": "de0629cb",
   "metadata": {},
   "source": [
    "> <span style=\"color:crimson\">In order not to introduce future information into the testing explanatory variables (i.e. mean and std deviation), we should perform standarization over the training data and then perform it on testing instances as well. Instead of performing it on the whole dataset. <span> \n",
    "    \n",
    "For this reason, I will be performing this bullet **2.e** in **part 3**"
   ]
  },
  {
   "cell_type": "markdown",
   "id": "b6af408d",
   "metadata": {},
   "source": [
    "### 3. Modeling\n",
    "**a)** Partition your data in test (30%) and training (70%)."
   ]
  },
  {
   "cell_type": "code",
   "execution_count": 14,
   "id": "6914f624",
   "metadata": {},
   "outputs": [],
   "source": [
    "from sklearn.model_selection import train_test_split\n",
    "from sklearn.preprocessing import StandardScaler\n",
    "from sklearn.metrics import classification_report\n",
    "#from sklearn.metrics import f1_score\n",
    "#from sklearn.metrics import accuracy_score\n",
    "#from sklearn.decomposition import PCA\n",
    "\n",
    "features = df.loc[ : , df.columns != \"HeartDisease\"]\n",
    "target  = df[\"HeartDisease\"]"
   ]
  },
  {
   "cell_type": "code",
   "execution_count": 15,
   "id": "6af98869",
   "metadata": {},
   "outputs": [],
   "source": [
    "X_train, X_test, y_train, y_test = train_test_split(features, target, test_size=0.3, random_state=42)"
   ]
  },
  {
   "cell_type": "code",
   "execution_count": 16,
   "id": "759b720e",
   "metadata": {
    "scrolled": false
   },
   "outputs": [
    {
     "name": "stdout",
     "output_type": "stream",
     "text": [
      "(641, 15)\n",
      "(641,)\n",
      "(276, 15)\n",
      "(276,)\n"
     ]
    }
   ],
   "source": [
    "print(X_train.shape)\n",
    "print(y_train.shape)\n",
    "print(X_test.shape)\n",
    "print(y_test.shape)"
   ]
  },
  {
   "cell_type": "markdown",
   "id": "fc3202a6",
   "metadata": {},
   "source": [
    "**2.e)** Rescale features to a narrow range using a normalization or standardization function."
   ]
  },
  {
   "cell_type": "code",
   "execution_count": 17,
   "id": "7972be23",
   "metadata": {},
   "outputs": [],
   "source": [
    "scaler = StandardScaler()\n",
    "X_train_scaled = scaler.fit_transform(X_train)\n",
    "X_test_scaled = scaler.transform(X_test)"
   ]
  },
  {
   "cell_type": "markdown",
   "id": "ff21720f",
   "metadata": {},
   "source": [
    "**b)** Use KNN, SVM, and Decision Tree Classifier classifiers to predict the class."
   ]
  },
  {
   "cell_type": "markdown",
   "id": "328cf4bd",
   "metadata": {},
   "source": [
    "### <span style=\"color:crimson\"> KNN - K-Nearest Neighbor </span>"
   ]
  },
  {
   "cell_type": "code",
   "execution_count": 18,
   "id": "987ef3fc",
   "metadata": {},
   "outputs": [
    {
     "name": "stdout",
     "output_type": "stream",
     "text": [
      "              precision    recall  f1-score   support\n",
      "\n",
      "           0       0.79      0.85      0.82       107\n",
      "           1       0.90      0.86      0.88       169\n",
      "\n",
      "    accuracy                           0.86       276\n",
      "   macro avg       0.85      0.85      0.85       276\n",
      "weighted avg       0.86      0.86      0.86       276\n",
      "\n"
     ]
    }
   ],
   "source": [
    "from sklearn.neighbors import KNeighborsClassifier\n",
    "\n",
    "KNN = KNeighborsClassifier(n_neighbors=5)         # create the model\n",
    "KNN.fit(X_train_scaled, y_train)                  # train the model \n",
    "KNN_y_pred = KNN.predict(X_test_scaled)           # ask the model to predict on the test set\n",
    "\n",
    "print(classification_report(y_test, KNN_y_pred))  # show result metrics"
   ]
  },
  {
   "cell_type": "markdown",
   "id": "90b8ebb2",
   "metadata": {},
   "source": [
    "### <span style=\"color:crimson\"> SVM - Support vector machine </span>"
   ]
  },
  {
   "cell_type": "code",
   "execution_count": 19,
   "id": "22d0a3ad",
   "metadata": {
    "scrolled": true
   },
   "outputs": [
    {
     "name": "stdout",
     "output_type": "stream",
     "text": [
      "              precision    recall  f1-score   support\n",
      "\n",
      "           0       0.82      0.87      0.84       107\n",
      "           1       0.91      0.88      0.89       169\n",
      "\n",
      "    accuracy                           0.87       276\n",
      "   macro avg       0.86      0.87      0.87       276\n",
      "weighted avg       0.88      0.87      0.87       276\n",
      "\n"
     ]
    }
   ],
   "source": [
    "from sklearn.svm import SVC\n",
    "\n",
    "SVM = SVC(random_state=42)                         # create the model\n",
    "SVM.fit(X_train_scaled, y_train)                   # train the model\n",
    "SVM_y_pred = SVM.predict(X_test_scaled)            # ask the model to predict on the test set\n",
    "\n",
    "print(classification_report(y_test, SVM_y_pred))   # show result metrics"
   ]
  },
  {
   "cell_type": "markdown",
   "id": "c8c205e9",
   "metadata": {},
   "source": [
    "### <span style=\"color:crimson\"> DT - Decision Tree </span>"
   ]
  },
  {
   "cell_type": "code",
   "execution_count": 20,
   "id": "979c3ff9",
   "metadata": {
    "scrolled": true
   },
   "outputs": [
    {
     "name": "stdout",
     "output_type": "stream",
     "text": [
      "              precision    recall  f1-score   support\n",
      "\n",
      "           0       0.67      0.80      0.73       107\n",
      "           1       0.86      0.75      0.80       169\n",
      "\n",
      "    accuracy                           0.77       276\n",
      "   macro avg       0.76      0.77      0.76       276\n",
      "weighted avg       0.78      0.77      0.77       276\n",
      "\n"
     ]
    }
   ],
   "source": [
    "from sklearn.tree import DecisionTreeClassifier\n",
    "\n",
    "DT = DecisionTreeClassifier(random_state=42)    # create the model\n",
    "DT.fit(X_train_scaled, y_train)                 # train the model\n",
    "DT_y_pred = DT.predict(X_test_scaled)           # ask the model to predict on the test set\n",
    "\n",
    "print(classification_report(y_test, DT_y_pred)) # show result metrics"
   ]
  },
  {
   "cell_type": "markdown",
   "id": "577bfaa7",
   "metadata": {},
   "source": [
    "### 4. Model evaluation and Selection\n",
    "a) Using the function GridSearchCV find the best estimators (criterion, max_depth, min_samples_leaf) for your DT model."
   ]
  },
  {
   "cell_type": "code",
   "execution_count": 137,
   "id": "6ab68216",
   "metadata": {
    "scrolled": true
   },
   "outputs": [
    {
     "name": "stdout",
     "output_type": "stream",
     "text": [
      "best parameters: {'criterion': 'entropy', 'max_depth': 3, 'min_samples_leaf': 2}\n",
      "best score: 0.8236676356589147\n"
     ]
    }
   ],
   "source": [
    "from sklearn.model_selection import GridSearchCV\n",
    "\n",
    "DT_parameters = {'criterion': ['gini', 'entropy'],\n",
    "                 'max_depth': range(1, 10),\n",
    "                 'min_samples_leaf': range(2, 10)\n",
    "              }\n",
    "\n",
    "DT_gridsearch = GridSearchCV(DT, DT_parameters)\n",
    "DT_gridsearch.fit(X_train_scaled, y_train)\n",
    "\n",
    "print(f'best parameters: {DT_gridsearch.best_params_}')\n",
    "print(f'best score: {DT_gridsearch.best_score_}')"
   ]
  },
  {
   "cell_type": "markdown",
   "id": "e7d08c12",
   "metadata": {},
   "source": [
    "**b)** Using the best parameters for the DT run the model and get the prediction.\n"
   ]
  },
  {
   "cell_type": "code",
   "execution_count": 34,
   "id": "73b09b3c",
   "metadata": {},
   "outputs": [
    {
     "name": "stdout",
     "output_type": "stream",
     "text": [
      "              precision    recall  f1-score   support\n",
      "\n",
      "           0       0.84      0.71      0.77       107\n",
      "           1       0.83      0.92      0.87       169\n",
      "\n",
      "    accuracy                           0.84       276\n",
      "   macro avg       0.84      0.81      0.82       276\n",
      "weighted avg       0.84      0.84      0.83       276\n",
      "\n"
     ]
    }
   ],
   "source": [
    "DT_tuned = DecisionTreeClassifier(criterion='entropy', max_depth = 3, min_samples_leaf = 2, random_state = 42)\n",
    "\n",
    "DT_tuned.fit(X_train_scaled, y_train)\n",
    "DT_tuned_y_pred = DT_tuned.predict(X_test_scaled)\n",
    "print(classification_report(y_test, DT_tuned_y_pred))"
   ]
  },
  {
   "cell_type": "markdown",
   "id": "aac92e95",
   "metadata": {},
   "source": [
    "**c)** Compare the results of the models based on the metrics: precision, recall, accuracy, F-measure from steps **3.b** and **4.b.**"
   ]
  },
  {
   "cell_type": "markdown",
   "id": "4577448b",
   "metadata": {},
   "source": [
    "#### <span style=\"color:crimson\"> First, let's compare between the two DT models:"
   ]
  },
  {
   "cell_type": "code",
   "execution_count": 132,
   "id": "914d67ba",
   "metadata": {
    "scrolled": false
   },
   "outputs": [
    {
     "name": "stdout",
     "output_type": "stream",
     "text": [
      "First DT without Hyperparameter tuning: \n",
      "\n",
      "               precision    recall  f1-score   support\n",
      "\n",
      "           0       0.67      0.80      0.73       107\n",
      "           1       0.86      0.75      0.80       169\n",
      "\n",
      "    accuracy                           0.77       276\n",
      "   macro avg       0.76      0.77      0.76       276\n",
      "weighted avg       0.78      0.77      0.77       276\n",
      "\n",
      "Second DT after Hyperparameter tuning: \n",
      "\n",
      "               precision    recall  f1-score   support\n",
      "\n",
      "           0       0.84      0.71      0.77       107\n",
      "           1       0.83      0.92      0.87       169\n",
      "\n",
      "    accuracy                           0.84       276\n",
      "   macro avg       0.84      0.81      0.82       276\n",
      "weighted avg       0.84      0.84      0.83       276\n",
      "\n"
     ]
    }
   ],
   "source": [
    "print(f'First DT without Hyperparameter tuning: \\n\\n {classification_report(y_test, DT_y_pred)}')\n",
    "print(f'Second DT after Hyperparameter tuning:  \\n\\n {classification_report(y_test, DT_tuned_y_pred)}')"
   ]
  },
  {
   "cell_type": "markdown",
   "id": "4e762cdb",
   "metadata": {},
   "source": [
    "<span style=\"color:crimson\"> After the hyperparameter tuning, we can see an **overall improvement**, `accuracy` increased **from 0.77 to 0.84**. Also `f1 score`, showed improvement for **not heart disease** prediction **from 0.73 to 0.77**, as well as for **heart disease** prediction going **from 0.80 to 0.87**. \n",
    "\n",
    "<span style=\"color:crimson\"> More in detail, `precision` for **not heart disease** increased **from 0.67 to 0.84**, while losing some precision for **heart disease** predicition, going **from 0.86 to 0.83**. \n",
    "    \n",
    "<span style=\"color:crimson\"> Finally, in `Recall` we see a decline for **not heart disease** prediction, going **from 0.80 to 0.71** to gain a better recall for **heart disease** going **from 0.75 to 0.92**. This also shows an improvement at identifying positive cases, but may lead to more false positives."
   ]
  },
  {
   "cell_type": "code",
   "execution_count": 134,
   "id": "01bff7d7",
   "metadata": {},
   "outputs": [
    {
     "name": "stdout",
     "output_type": "stream",
     "text": [
      "DT tuned: \n",
      "\n",
      "               precision    recall  f1-score   support\n",
      "\n",
      "           0       0.84      0.71      0.77       107\n",
      "           1       0.83      0.92      0.87       169\n",
      "\n",
      "    accuracy                           0.84       276\n",
      "   macro avg       0.84      0.81      0.82       276\n",
      "weighted avg       0.84      0.84      0.83       276\n",
      "\n",
      "\n",
      "KNN:      \n",
      "\n",
      "               precision    recall  f1-score   support\n",
      "\n",
      "           0       0.79      0.85      0.82       107\n",
      "           1       0.90      0.86      0.88       169\n",
      "\n",
      "    accuracy                           0.86       276\n",
      "   macro avg       0.85      0.85      0.85       276\n",
      "weighted avg       0.86      0.86      0.86       276\n",
      "\n",
      "\n",
      "SVM:      \n",
      "\n",
      "               precision    recall  f1-score   support\n",
      "\n",
      "           0       0.82      0.87      0.84       107\n",
      "           1       0.91      0.88      0.89       169\n",
      "\n",
      "    accuracy                           0.87       276\n",
      "   macro avg       0.86      0.87      0.87       276\n",
      "weighted avg       0.88      0.87      0.87       276\n",
      "\n",
      "\n"
     ]
    }
   ],
   "source": [
    "print(f'DT tuned: \\n\\n {classification_report(y_test, DT_tuned_y_pred)}\\n')\n",
    "print(f'KNN:      \\n\\n {classification_report(y_test, KNN_y_pred)}\\n')\n",
    "print(f'SVM:      \\n\\n {classification_report(y_test, SVM_y_pred)}\\n')"
   ]
  },
  {
   "cell_type": "markdown",
   "id": "241e6a4e",
   "metadata": {},
   "source": [
    "<span style=\"color:crimson\"> Regarding the `f1-score` between models, after tuning the DT, the scores are very similar. In ascending order: for the **DT 0.87, followed by KNN 0.88 and leading SVM 0.89**. The same order remains for the `accuracy`. **Tuned DT 0.84, followed by KNN 0.86 and SVM 0.87.** Setting SVM as a potencial best model.\n",
    "    \n",
    "<span style=\"color:crimson\"> More in detail, in `precision` for **not heart disease** DT has the higher score **(DT: 0.84 SVM: 0.82 & KNN: 0.79)**, while for **heart disease** predicition, SVM leads **(SVM: 0.91 KNN: 0.90 & DT: 0.83)** All models with an excellent performance at identifying positive cases.  \n",
    "    \n",
    "<span style=\"color:crimson\"> Finally, for `Recall` we see that for **not heart disease** prediction SVM has the highest score **(SVM: 0.87 KNN: 0.85 & DT: 0.71)** but for better recall in **heart disease** DT is the leader **(DT: 0.92 SVM: 0.88 & KNN: 0.86)**."
   ]
  },
  {
   "cell_type": "markdown",
   "id": "5087b26b",
   "metadata": {},
   "source": [
    "**d)** Plot the ROC graph for each model and compare the performance for each one (**3.b** and **4.b**)"
   ]
  },
  {
   "cell_type": "code",
   "execution_count": 136,
   "id": "51fde613",
   "metadata": {},
   "outputs": [
    {
     "data": {
      "text/plain": [
       "<sklearn.metrics._plot.roc_curve.RocCurveDisplay at 0x1920dc1a1c0>"
      ]
     },
     "execution_count": 136,
     "metadata": {},
     "output_type": "execute_result"
    },
    {
     "data": {
      "image/png": "[encoded data removed]",
      "text/plain": [
       "<Figure size 1440x504 with 1 Axes>"
      ]
     },
     "metadata": {},
     "output_type": "display_data"
    }
   ],
   "source": [
    "from sklearn.metrics import RocCurveDisplay\n",
    "\n",
    "fig, axes = plt.subplots(figsize=(20,7))\n",
    "\n",
    "#define title and some graph settings\n",
    "axes.set_title('ROC curves DT, KNN & SVM', fontsize=18)\n",
    "plt.ylabel(\"\", fontsize=16)\n",
    "plt.xlabel(\"\", fontsize=16)\n",
    "\n",
    "#create the graph\n",
    "RocCurveDisplay.from_predictions(y_test, DT_y_pred, name=\"DT ROC\", ax=axes)\n",
    "RocCurveDisplay.from_predictions(y_test, DT_tuned_y_pred, name=\"DT tuned\", ax=axes)\n",
    "RocCurveDisplay.from_predictions(y_test, KNN_y_pred, name=\"KNN\", ax=axes)\n",
    "RocCurveDisplay.from_predictions(y_test, SVM_y_pred, name=\"SVM\", ax=axes)\n",
    "\n"
   ]
  },
  {
   "cell_type": "markdown",
   "id": "fd5c1fdb",
   "metadata": {},
   "source": [
    "e) Explain which is the best model according to each criterion from **4.c)** and **4.d)**."
   ]
  },
  {
   "cell_type": "markdown",
   "id": "1573b20f",
   "metadata": {},
   "source": [
    "<span style=\"color:crimson\"> According to previous explanation, the *SVM* is the best model comparated with *DT & KNN models*. The **SVM** has an **overall better performance** measured by `accuracy` and `f1 score`. Additionally, it has better performance at identifying positive cases for **heart disease** which is, in this case, the result with more real impact. \n",
    "    \n",
    "<span style=\"color:crimson\"> Finally, comparing the ROC curves strengthens our election. With **greater AUC** (Area Under the Curve) the **SVM** model has a better ability distinguishing between classes. **SVM AUC 0.87 , KNN AUC = 0.85 , DT tunned AUC = 0.81 , DT AUC = 0.77**.  "
   ]
  }
 ],
 "metadata": {
  "kernelspec": {
   "display_name": "Python 3 (ipykernel)",
   "language": "python",
   "name": "python3"
  },
  "language_info": {
   "codemirror_mode": {
    "name": "ipython",
    "version": 3
   },
   "file_extension": ".py",
   "mimetype": "text/x-python",
   "name": "python",
   "nbconvert_exporter": "python",
   "pygments_lexer": "ipython3",
   "version": "3.9.12"
  }
 },
 "nbformat": 4,
 "nbformat_minor": 5
}
